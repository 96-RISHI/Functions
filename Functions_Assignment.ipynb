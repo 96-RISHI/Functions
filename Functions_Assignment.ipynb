{
  "nbformat": 4,
  "nbformat_minor": 0,
  "metadata": {
    "colab": {
      "provenance": []
    },
    "kernelspec": {
      "name": "python3",
      "display_name": "Python 3"
    },
    "language_info": {
      "name": "python"
    }
  },
  "cells": [
    {
      "cell_type": "markdown",
      "source": [
        "**Question 1.** ***What is the difference between a function and a method in Python?***\n",
        "\n",
        "  > In Python, both functions and methods are blocks of reusable code designed to perform specific tasks. The primary distinction between them lies in their association with objects and classes.\n",
        "\n",
        "# - **Function**\n",
        "   \n",
        "1.   *Definition* : A function is a standalone block of code defined using the def keyword. It can accept arguments, perform operations, and return results.\n",
        "\n",
        "2.   *Usage* : Functions are invoked by their name and are not inherently tied to any object or class.\n",
        "\n",
        "- **Characteristics:**\n",
        "\n",
        "1.   Defined outside of classes.\n",
        "\n",
        "2.   Do not have access to the instance (self) or class (cls) unless explicitly passed.\n",
        "\n",
        "3.   Cannot modify the state of objects unless they receive them as parameters.\n",
        "\n",
        "\n",
        "# - **Method**\n",
        "\n",
        "  1. Definition: A method is a function that is associated with an object. It is defined within a class and is designed to operate on instances of that class.\n",
        "\n",
        "  2. Usage: Methods are called on objects using dot notation.\n",
        "\n",
        "\n",
        "- **Characteristics:**\n",
        "\n",
        "  1. Defined within a class.\n",
        "\n",
        "  2. The first parameter is typically self (for instance methods) or cls (for class methods), representing the instance or class, respectively.\n",
        "\n",
        "  3. Can access and modify the object's state and other methods or attributes of the class."
      ],
      "metadata": {
        "id": "oLJNTRuvxyHX"
      }
    },
    {
      "cell_type": "code",
      "execution_count": null,
      "metadata": {
        "id": "S8-ExHggxJXk",
        "colab": {
          "base_uri": "https://localhost:8080/"
        },
        "outputId": "86d2dc0a-9c85-47e7-9569-0c60054bedb3"
      },
      "outputs": [
        {
          "output_type": "stream",
          "name": "stdout",
          "text": [
            "welcome, Rahul\n"
          ]
        }
      ],
      "source": [
        "# Example of function\n",
        "\n",
        "def greeting(name):\n",
        "  return f\"welcome, {name}\"\n",
        "\n",
        "print (greeting(\"Rahul\"))\n"
      ]
    },
    {
      "cell_type": "code",
      "source": [
        "# Example of Method\n",
        "\n",
        "class Greetings():\n",
        "\n",
        "  def greet(self, name):\n",
        "    return f\"welcome, {name}\"\n",
        "\n",
        "obj = Greetings()\n",
        "print(obj.greet(\"Rajat\"))"
      ],
      "metadata": {
        "colab": {
          "base_uri": "https://localhost:8080/"
        },
        "id": "Ov-ZJlNC255T",
        "outputId": "931dc763-b47b-4ce9-ebce-9416be6fca04"
      },
      "execution_count": null,
      "outputs": [
        {
          "output_type": "stream",
          "name": "stdout",
          "text": [
            "welcome, Rajat\n"
          ]
        }
      ]
    },
    {
      "cell_type": "markdown",
      "source": [
        "**Question 2.** ***Explain the concept of function arguments and parameters in Python.***\n",
        "\n",
        "  > In pyhton, function arguments and parameters are fundamental concepts used when defining and calling a function.\n",
        "\n",
        "#  Parameters\n",
        "\n",
        "  - Parameters are the variable listed inside the parantheses in a function definition. They act as a placeholder for the value (arguments) that will be passed to the function."
      ],
      "metadata": {
        "id": "IAdyfrXxx6K9"
      }
    },
    {
      "cell_type": "code",
      "source": [
        "# Example\n",
        "\n",
        "def greet (name):\n",
        "  return f\"Hello, {name}\"  # HERE \"name\" IS THE PARAMETER.\n"
      ],
      "metadata": {
        "id": "kQuX5x2zyCBp"
      },
      "execution_count": null,
      "outputs": []
    },
    {
      "cell_type": "markdown",
      "source": [
        "# Arguments\n",
        "\n",
        "  - Arguments are the actual value we pass to the function when we call it."
      ],
      "metadata": {
        "id": "sAjv_Ezy7DNe"
      }
    },
    {
      "cell_type": "code",
      "source": [
        "# Example\n",
        "\n",
        "print (greet(\"Rahul\")) # HERE \"Rahul\" IS THE ARGUMENT."
      ],
      "metadata": {
        "id": "b5jY1EH07don",
        "colab": {
          "base_uri": "https://localhost:8080/"
        },
        "outputId": "6da2ded7-82f4-4526-eb1d-e1570270f8a3"
      },
      "execution_count": null,
      "outputs": [
        {
          "output_type": "stream",
          "name": "stdout",
          "text": [
            "Hello, Rahul\n"
          ]
        }
      ]
    },
    {
      "cell_type": "markdown",
      "source": [
        "# Relationship\n",
        "\n",
        "  - Parameters are the placeholder in the function definition While Arguments are the actual values passed to those placehiolders when the function is called.\n",
        "\n",
        "# Types of Argument in Python\n",
        "\n",
        "  1. **Positional Arguments** - Matched by position.\n",
        "  2. **Keyword Arguments** - Matched by name.\n",
        "  3. **Default Arguments** - PArameter with default value.\n",
        "  4. **Variable-Length Arguments** - Allows passing a variable number of arguments.\n",
        "\n",
        "        - 4.1 - ***args** : for positional arguments.\n",
        "        - 4.2 - ****kwargs** : for keyword arguments.\n",
        "\n",
        "\n"
      ],
      "metadata": {
        "id": "s9mUTd_H8XMw"
      }
    },
    {
      "cell_type": "code",
      "source": [
        "# 1. Positional Arguments\n",
        "\n",
        "def add (a, b):\n",
        "  return a+b\n",
        "\n",
        "print (add(1,2))"
      ],
      "metadata": {
        "id": "5bZIea19-ekB",
        "colab": {
          "base_uri": "https://localhost:8080/"
        },
        "outputId": "38c53097-2a2f-4ac9-c16a-5d5a10344ce3"
      },
      "execution_count": null,
      "outputs": [
        {
          "output_type": "stream",
          "name": "stdout",
          "text": [
            "3\n"
          ]
        }
      ]
    },
    {
      "cell_type": "code",
      "source": [
        "# 2. Keyword Arguments\n",
        "\n",
        "print (add(a=1,b=2))\n"
      ],
      "metadata": {
        "id": "RucmJQGn-r9I",
        "colab": {
          "base_uri": "https://localhost:8080/"
        },
        "outputId": "3f7e2390-e7a4-45ee-f191-dbecd68dd0aa"
      },
      "execution_count": null,
      "outputs": [
        {
          "output_type": "stream",
          "name": "stdout",
          "text": [
            "3\n"
          ]
        }
      ]
    },
    {
      "cell_type": "code",
      "source": [
        "# 3. Default Arguments\n",
        "\n",
        "def greet (name = \"Royal Family\"):\n",
        "  print (\"Hello\", name)\n",
        "\n",
        "greet ()           # gives default value \" Hello Royal Family \"\"\n",
        "greet (\"Family\")   # Overrides default value. \"Hello Family\"\n"
      ],
      "metadata": {
        "id": "GYYXjvbv_EKX",
        "colab": {
          "base_uri": "https://localhost:8080/"
        },
        "outputId": "e7bd2546-b1f2-4fbb-aede-dd2e4d4739c4"
      },
      "execution_count": null,
      "outputs": [
        {
          "output_type": "stream",
          "name": "stdout",
          "text": [
            "Hello Royal Family\n",
            "Hello Family\n"
          ]
        }
      ]
    },
    {
      "cell_type": "code",
      "source": [
        "# 4. Variable-length arguments\n",
        "  # 4.1 *args Positional Arguments.\n",
        "\n",
        "def total (*numbers):\n",
        "  return sum(numbers)\n",
        "total (1,2,3,4,5)\n"
      ],
      "metadata": {
        "id": "txLkVfCl_0Uf",
        "colab": {
          "base_uri": "https://localhost:8080/"
        },
        "outputId": "b60c4f7d-c762-4faa-9b76-c346684a3cdf"
      },
      "execution_count": null,
      "outputs": [
        {
          "output_type": "execute_result",
          "data": {
            "text/plain": [
              "15"
            ]
          },
          "metadata": {},
          "execution_count": 13
        }
      ]
    },
    {
      "cell_type": "code",
      "source": [
        "#4.2 **kwargs  Keyword Arguments\n",
        "\n",
        "def profile(**info):\n",
        "  print (info)\n",
        "\n",
        "profile (name = \"Rahul\", age = 20)"
      ],
      "metadata": {
        "id": "8Qb0aDbgAUZC",
        "colab": {
          "base_uri": "https://localhost:8080/"
        },
        "outputId": "561e8e3f-d443-40f7-ca41-6b7e7e157b1f"
      },
      "execution_count": null,
      "outputs": [
        {
          "output_type": "stream",
          "name": "stdout",
          "text": [
            "{'name': 'Rahul', 'age': 20}\n"
          ]
        }
      ]
    },
    {
      "cell_type": "markdown",
      "source": [
        "**Question 3.** ***What are the different ways to define and call a function in Python?***\n",
        "\n",
        "  > **Primary methods to define and call functions in Python are:**\n",
        "\n",
        "- 1. **Standard Function Definition** : Use the def keyword to define a function with a specific name and parameters.\n",
        "\n",
        "- 2. **Functions with Default Parameters** : Assign default values to parameters, making them optional during function calls.\n",
        "\n",
        "- 3. **Variable-Length Arguments** : Use *args for positional arguments and **kwargs for keyword arguments to accept an arbitrary number of inputs.\n",
        "\n",
        "- 4. **Lambda (Anonymous) Functions** : Define small, unnamed functions using the lambda keyword.\n",
        "Lambda functions are often used for short, throwaway functions, especially as arguments to higher-order functions like map, filter, and sorted.\n",
        "\n",
        "- 5. **Nested Functions and Closures** : Define functions within functions. Inner functions can capture and remember variables from their enclosing scopes, forming closures.\n",
        "\n",
        "- 6. **Recursive Functions** : Functions that call themselves to solve problems that can be broken down into similar sub-problems.\n",
        "\n",
        "- 7.  **Generator Functions** : Use the yield keyword to define a generator, which returns an iterator that yields one item at a time. Generators are memory-efficient for iterating over large datasets.\n",
        "\n",
        "- 8. **Function Objects and the __call__ Method** : In Python, functions are first-class objects. You can define classes with a __call__ method, making their instances callable like functions. This approach is useful for creating callable objects that maintain state.\n",
        "\n",
        "- 9. **Higher-Order Functions** : Functions that take other functions as arguments or return them as results.Higher-order functions are foundational in functional programming paradigms.\n",
        "\n",
        "- 10. **Using Built-in Functions and Function Tools** : Python provides several built-in functions and modules like functools to work with functions.\n",
        "\n",
        "    Example: Using functools.partial\n"
      ],
      "metadata": {
        "id": "s7h31onSyDKB"
      }
    },
    {
      "cell_type": "code",
      "source": [
        "# 1 Standard Function Definition\n",
        "\n",
        "def greet(name):\n",
        "    return f\"Hello, {name}\"\n",
        "print (greet(\"Ajay\"))"
      ],
      "metadata": {
        "id": "OxYhQQtHyOmH",
        "colab": {
          "base_uri": "https://localhost:8080/"
        },
        "outputId": "660480e9-1c74-4b7a-d4bd-c0963f01b6dc"
      },
      "execution_count": null,
      "outputs": [
        {
          "output_type": "stream",
          "name": "stdout",
          "text": [
            "Hello, Ajay\n"
          ]
        }
      ]
    },
    {
      "cell_type": "code",
      "source": [
        "# 2. Functions with Default Parameters\n",
        "\n",
        "def greet(name=\"Guest\"):\n",
        "    return f\"Hello, {name}\"\n",
        "\n",
        "print(greet())           # default value.\n",
        "print(greet(\"Alpha\"))    # Overides the default value."
      ],
      "metadata": {
        "colab": {
          "base_uri": "https://localhost:8080/"
        },
        "id": "FaEpcO2hI-uu",
        "outputId": "522b95c9-616e-4408-d851-69e886a133d5"
      },
      "execution_count": null,
      "outputs": [
        {
          "output_type": "stream",
          "name": "stdout",
          "text": [
            "Hello, Guest\n",
            "Hello, Alpha\n"
          ]
        }
      ]
    },
    {
      "cell_type": "code",
      "source": [
        "# 3. Variable-Length Arguments\n",
        "\n",
        "def summary (*args, **kwargs):\n",
        "  return f\"positional arguments:, {args}\\nKeyword Arguments : {kwargs}\"\n",
        "\n",
        "print(summary(1,2,3,4,5, name = \"Rahul\", age = 20))"
      ],
      "metadata": {
        "colab": {
          "base_uri": "https://localhost:8080/"
        },
        "id": "9jxF7LreJtLn",
        "outputId": "6964e94b-8858-453d-fe9e-e5203e432291"
      },
      "execution_count": null,
      "outputs": [
        {
          "output_type": "stream",
          "name": "stdout",
          "text": [
            "positional arguments:, (1, 2, 3, 4, 5)\n",
            "Keyword Arguments : {'name': 'Rahul', 'age': 20}\n"
          ]
        }
      ]
    },
    {
      "cell_type": "code",
      "source": [
        "# 4. Lambda (Anonymous) Functions\n",
        "\n",
        "multiply = lambda x: x*2\n",
        "print (multiply(2))"
      ],
      "metadata": {
        "colab": {
          "base_uri": "https://localhost:8080/"
        },
        "id": "eoAQmiUGMb0l",
        "outputId": "270371f9-06f4-4aad-a1a2-f4299d1f9061"
      },
      "execution_count": null,
      "outputs": [
        {
          "output_type": "stream",
          "name": "stdout",
          "text": [
            "4\n"
          ]
        }
      ]
    },
    {
      "cell_type": "code",
      "source": [
        "# 5. Nested Functions and Closures\n",
        "\n",
        "def outer_function(msg):\n",
        "    def inner_function():\n",
        "        print(msg)\n",
        "    return inner_function\n",
        "greet = outer_function(\"Hello, World!\")\n",
        "greet()\n",
        "\n"
      ],
      "metadata": {
        "colab": {
          "base_uri": "https://localhost:8080/"
        },
        "id": "2gvFElmxMQMf",
        "outputId": "a43dc798-8b62-4f16-bf1f-e2cd0fb5422b"
      },
      "execution_count": null,
      "outputs": [
        {
          "output_type": "stream",
          "name": "stdout",
          "text": [
            "Hello, World!\n"
          ]
        }
      ]
    },
    {
      "cell_type": "code",
      "source": [
        "# 6. Recursive Functions\n",
        "\n",
        "def factorial(n):\n",
        "  if n == 0:\n",
        "    return 1\n",
        "  else:\n",
        "    return n*factorial(n - 1)\n",
        "\n",
        "print (factorial(5))"
      ],
      "metadata": {
        "colab": {
          "base_uri": "https://localhost:8080/"
        },
        "id": "Dwnr2JFODB6k",
        "outputId": "afa9aaa9-feee-438a-a8a3-51f0caca0fa7"
      },
      "execution_count": null,
      "outputs": [
        {
          "output_type": "stream",
          "name": "stdout",
          "text": [
            "120\n"
          ]
        }
      ]
    },
    {
      "cell_type": "code",
      "source": [
        "# 7. Generator Functions\n",
        "\n",
        "def rev_count (n):\n",
        "\n",
        "  while n > 0:\n",
        "    yield n\n",
        "    n -= 1\n",
        "\n",
        "for i in rev_count(6):\n",
        "  print(i)"
      ],
      "metadata": {
        "colab": {
          "base_uri": "https://localhost:8080/"
        },
        "id": "2soYaKPVEPw_",
        "outputId": "34f9235d-9327-4275-b17e-2e08d2fce070"
      },
      "execution_count": null,
      "outputs": [
        {
          "output_type": "stream",
          "name": "stdout",
          "text": [
            "6\n",
            "5\n",
            "4\n",
            "3\n",
            "2\n",
            "1\n"
          ]
        }
      ]
    },
    {
      "cell_type": "code",
      "source": [
        "# 8. Function Objects and the __call__ Method\n",
        "class Adder:\n",
        "  def __init__(self, increment):\n",
        "        self.increment = increment\n",
        "\n",
        "  def __call__(self, value):\n",
        "        return value + self.increment\n",
        "\n",
        "add_five = Adder(5)\n",
        "print(add_five(10))"
      ],
      "metadata": {
        "colab": {
          "base_uri": "https://localhost:8080/"
        },
        "id": "HxAhkrelFBbR",
        "outputId": "da90c2f9-4e44-4b21-f30d-e39a366109fb"
      },
      "execution_count": null,
      "outputs": [
        {
          "output_type": "stream",
          "name": "stdout",
          "text": [
            "15\n"
          ]
        }
      ]
    },
    {
      "cell_type": "code",
      "source": [
        " # 9. Higher-Order Functions\n",
        "\n",
        "def apply_function(f, value):\n",
        "    return f(value)\n",
        "\n",
        "def square(x):\n",
        "    return x * x\n",
        "\n",
        "print(apply_function(square, 4))\n",
        "\n"
      ],
      "metadata": {
        "colab": {
          "base_uri": "https://localhost:8080/"
        },
        "id": "KfETaNq2Gp0a",
        "outputId": "e3de25af-58b2-415d-b5ab-fbb16861c5a5"
      },
      "execution_count": null,
      "outputs": [
        {
          "output_type": "stream",
          "name": "stdout",
          "text": [
            "16\n"
          ]
        }
      ]
    },
    {
      "cell_type": "code",
      "source": [
        "# 10. Using Built-in Functions and Function Tools\n",
        "\n",
        "from functools import partial\n",
        "\n",
        "def multiply(x, y):\n",
        "    return x * y\n",
        "\n",
        "double = partial(multiply, 2)\n",
        "print(double(5))\n"
      ],
      "metadata": {
        "colab": {
          "base_uri": "https://localhost:8080/"
        },
        "id": "1yAH-a6yHXEF",
        "outputId": "06027ee2-3488-46a1-cbe2-52975edc35e7"
      },
      "execution_count": null,
      "outputs": [
        {
          "output_type": "stream",
          "name": "stdout",
          "text": [
            "10\n"
          ]
        }
      ]
    },
    {
      "cell_type": "markdown",
      "source": [
        "**Question 4.** ***What is the purpose of the `return` statement in a Python function?***\n",
        "\n",
        "  > The `return` statement in python primarily  serves two purpose-\n",
        "\n",
        "- 1. **Terminating Function Execution:** - When a return statement is executed, it immediately ends the function's execution. Any code following the return statement within the function is not executed.\n",
        "\n",
        "- 2. **Returning a Value to the Caller:** - The return statement sends a value back to the part of the program that called the function. This allows the function to output results that can be used elsewhere in the program.\n",
        "\n",
        "> **Key Points About `return` statement.**\n",
        "\n",
        "  - 1. **Optional Return Value**: If a function has a return statement without a value (i.e., just return), or if it lacks a return statement entirely, Python automatically returns None by default.\n",
        "\n",
        "  - 2. **Returning Multiple Values** : Python functions can return multiple values by separating them with commas.\n",
        "\n",
        "  - 3. **Returning Complex Data Types** : Functions can return any data type, including lists, dictionaries, other functions, or even classes.\n",
        "\n",
        "  - 4. **Early Exit** : The return statement can be used to exit a function early, which is useful for handling special cases or errors.\n",
        "\n"
      ],
      "metadata": {
        "id": "VoySBIZcyPTd"
      }
    },
    {
      "cell_type": "code",
      "source": [
        "# example\n",
        "\n",
        "def divide (a, b):\n",
        "    quotient = a // b\n",
        "    remainder = a % b\n",
        "    return quotient, remainder # return here terminates the function and will give the output when the function is called with the values.\n",
        "\n",
        "result = divide(15,2)\n",
        "print (result)\n",
        "\n",
        "q, r = divide(10,3) # gives output of quotent and remainder inside a tuple.\n",
        "print (q)           # gives output of quotient as a int.\n",
        "print (r)           # gives output of remainder as a int.\n"
      ],
      "metadata": {
        "id": "0h5ojgNNyVmP",
        "colab": {
          "base_uri": "https://localhost:8080/"
        },
        "outputId": "1d2cb400-7d35-40a5-823b-51a365bd0def"
      },
      "execution_count": null,
      "outputs": [
        {
          "output_type": "stream",
          "name": "stdout",
          "text": [
            "(7, 1)\n",
            "3\n",
            "1\n"
          ]
        }
      ]
    },
    {
      "cell_type": "markdown",
      "source": [
        "**Question 5**.  ***What are iterators in Python and how do they differ from iterables?***\n",
        "\n",
        "  > **Iterables**\n",
        "\n",
        "  - A iterable is a python object which is capable of returning its elements one at a time. common examples are - List, Set, Dictionary, Tuple, String.\n",
        "\n",
        "  - These objects implement the __iter__() method, which returns an iterator. This allows you to use them in loops, comprehensions, and other iterable contexts."
      ],
      "metadata": {
        "id": "q6J0OintyWOq"
      }
    },
    {
      "cell_type": "code",
      "source": [
        "#Example of Iterable\n",
        "\n",
        "my_list = [1, 2, 3, 4, 5]   # here, \"my_list\" is an `iterable`.\n",
        "for item in my_list:        # here the for loop internally calls iter(my_list) to abtain an iterator.\n",
        "    print(item)"
      ],
      "metadata": {
        "id": "x6B9W6RuycUU"
      },
      "execution_count": null,
      "outputs": []
    },
    {
      "cell_type": "markdown",
      "source": [
        "  > **Iterator**\n",
        "\n",
        "- A iterator is a python object that allows yoy to traverse through a sequence of element, one at a time.\n",
        "\n",
        "- it implement two essential methods :    \n",
        "\n",
        "  - 1. `__iter__()` : Returns the iterator object itself.\n",
        "  - 2. `__next__()` : Returns the next item from the sequence.\n",
        "  When there are no more items to return, it raises a `StopIteration` exception to signal that the iteration is complete."
      ],
      "metadata": {
        "id": "3qrt8m_nQU5_"
      }
    },
    {
      "cell_type": "code",
      "source": [
        "# Example of iterator.\n",
        "\n",
        "my_list = [1, 2, 3, 4, 5]\n",
        "my_iterator = iter(my_list)  # my_iterator is an iterator over my_list(iterable).\n",
        "\n",
        "print (next(my_iterator))    # next(my_iterator) retrieves the next element in the list.\n",
        "print (next(my_iterator))\n",
        "print (next(my_iterator))\n",
        "print (next(my_iterator))\n",
        "print (next(my_iterator))    # Once all elements have been retrieved, a subsequent call to next() raises a StopIteration exception."
      ],
      "metadata": {
        "colab": {
          "base_uri": "https://localhost:8080/"
        },
        "id": "iOsjj7P_SQbq",
        "outputId": "4d61cce2-3197-4288-807e-7cebde0446f5"
      },
      "execution_count": null,
      "outputs": [
        {
          "output_type": "stream",
          "name": "stdout",
          "text": [
            "1\n",
            "2\n",
            "3\n",
            "4\n",
            "5\n"
          ]
        }
      ]
    },
    {
      "cell_type": "markdown",
      "source": [
        "**Question 6.** ***Explain the concept of generators in Python and how they are defined.***\n",
        "\n",
        "  > In python generators is a special type of function that returns an iterator, allowing us to iterate over a sequence of values  lazily - that is, generating each value only when needed, rather than computing and storing the  entire sequence in memory at once. This approach is particullarly useful when dealing with large data set or infinte sequence, as it conserves memory and improve performance.\n",
        "\n",
        "Generator functions are defined as -\n",
        "\n",
        "> A generator function is defined like a regular function but uses the yield statement to return values one at a time.\n",
        "\n",
        "> Each time the generator's __next__() method is called (implicitly by a for loop or explicitly using the next() function), the function resumes execution right after the last yield statement."
      ],
      "metadata": {
        "id": "uoGSX2bFyes9"
      }
    },
    {
      "cell_type": "code",
      "source": [
        "# Example\n",
        "\n",
        "def count_up_to (n):\n",
        "  count = 1\n",
        "  while count <= n:\n",
        "    yield count    # yield returns values one at a time.\n",
        "    count += 1\n",
        "\n",
        "for count in count_up_to(5):      # for loop implicitly calls next() method to iterate over the iterable count_up_to."
      ],
      "metadata": {
        "id": "zIZvkj8lyeEL",
        "colab": {
          "base_uri": "https://localhost:8080/"
        },
        "outputId": "0109a586-b967-4a4f-bbf4-d60cfe676bef"
      },
      "execution_count": null,
      "outputs": [
        {
          "output_type": "stream",
          "name": "stdout",
          "text": [
            "1\n",
            "2\n",
            "3\n",
            "4\n",
            "5\n"
          ]
        }
      ]
    },
    {
      "cell_type": "markdown",
      "source": [
        "**Question 7.** ***What are the advantages of using generators over regular functions?***\n",
        "\n",
        "  >Generators in Python offer several advantages over regular functions, especially when dealing with large datasets or streams of data. Here's a breakdown of their benefits:\n",
        "\n",
        "- 1. **Memory Efficiency** - Generators yield items one at a time, which means they don't store the entire sequence in memory. This is particularly beneficial when working with large datasets or infinite sequences.\n",
        "\n",
        "- 2. **Lazy Evaluation** - Generators compute values on the fly and yield them as needed. This approach allows for immediate processing of the first few items without waiting for the entire sequence to be generated.\n",
        "\n",
        "- 3. **State Preservation** - Each time a generator yields a value, it suspends its state, allowing it to resume from where it left off. This feature simplifies the implementation of iterators and can lead to cleaner code.\n",
        "\n",
        "- 4. **Simplified Code for Iterators** - Generators provide a concise way to write iterators without the need to implement the __iter__() and __next__() methods manually. Using the yield statement, you can create iterators in a more readable and maintainable manner.\n",
        "\n",
        "- 5. **Handling Infinite Sequences** - Generators are well-suited for representing infinite sequences, such as data streams or mathematical sequences, since they generate values on demand and don't require predefining the sequence's length."
      ],
      "metadata": {
        "id": "mC13j9_Jyn0T"
      }
    },
    {
      "cell_type": "code",
      "source": [
        "# Generator Function\n",
        "\n",
        "def count_up_to(n):\n",
        "   count = 1\n",
        "   while count <= n:\n",
        "    yield count\n",
        "    count += 1\n",
        "\n",
        "count_up_to(5)  # It doesn't execute the function body immediately. Instead, it returns a generator object.\n",
        "\n",
        "#You can then iterate over this generator using the next() function.\n",
        "num = count_up_to(5)\n",
        "print (next(num))\n",
        "print (next(num))\n",
        "print (next(num))\n",
        "\n",
        "\n",
        "# or using for loop\n",
        "# for i in num:\n",
        "#   print (i)\n"
      ],
      "metadata": {
        "id": "BruB1cuvztpM",
        "colab": {
          "base_uri": "https://localhost:8080/"
        },
        "outputId": "4db4ed95-5c62-4eb0-ce67-a86fa25c63c1"
      },
      "execution_count": null,
      "outputs": [
        {
          "output_type": "stream",
          "name": "stdout",
          "text": [
            "1\n",
            "2\n",
            "3\n"
          ]
        }
      ]
    },
    {
      "cell_type": "code",
      "source": [
        "# Regular Function\n",
        "\n",
        "def count_up_to(n):\n",
        "      return list(range(1, n+1))\n",
        "\n",
        "count_up_to(5)"
      ],
      "metadata": {
        "colab": {
          "base_uri": "https://localhost:8080/"
        },
        "id": "NYusXnKjcckB",
        "outputId": "5b5b252e-7298-4436-ef51-5da62fdb8aa3"
      },
      "execution_count": null,
      "outputs": [
        {
          "output_type": "execute_result",
          "data": {
            "text/plain": [
              "[1, 2, 3, 4, 5]"
            ]
          },
          "metadata": {},
          "execution_count": 49
        }
      ]
    },
    {
      "cell_type": "markdown",
      "source": [
        "**Question 8.** ***What is a lambda function in Python and when is it typically used?***\n",
        "\n",
        "  > In Python, a lambda function is a concise way to define an anonymous function—that is, a function without a name. These functions are typically used for short, simple operations and are defined using the lambda keyword.\n",
        "\n",
        "  > **Syntax** = `lambda argument: expression`\n",
        "\n",
        "- **Common use cases include** : Lambda functions are particularly useful in scenarios where a short function is needed for a short period and defining a full function using def would be unnecessarily verbose.\n",
        "\n",
        "- 1.  **As arguments to higher-order functions**: Functions like map(), filter(), and sorted() often require a function as an argument. Lambda functions can be used directly in these cases.\n",
        "\n",
        "- 2.  **For simple conditional expressions** : When a simple condition needs to be applied, lambda functions can make the code more concise.\n",
        "\n",
        "\n",
        "\n",
        "**Limitations of Lambda Functions**\n",
        "\n",
        "- 1. **Single expression only**: Lambda functions can only contain a single expression. They cannot include multiple statements or annotations.\n",
        "\n",
        "- 2. **Reduced readability**: Overusing lambda functions, especially with complex expressions, can make code harder to read and debug.\n",
        "\n",
        "- 3. **No name**: Since lambda functions are anonymous, they don't have a name unless assigned to a variable, which can make debugging more challenging."
      ],
      "metadata": {
        "id": "h12L5-WszuS2"
      }
    },
    {
      "cell_type": "code",
      "source": [
        "# 1. As Argument to higher-order function.\n",
        "\n",
        "num = [1, 2, 3, 4, 5, 6, 7, 8, 9]\n",
        "cube = list(map(lambda x: x**3, num))\n",
        "print (cube)"
      ],
      "metadata": {
        "id": "bNBf5Tzfz1Ft",
        "colab": {
          "base_uri": "https://localhost:8080/"
        },
        "outputId": "75d63b26-a40e-4637-8022-dce4dff6246f"
      },
      "execution_count": null,
      "outputs": [
        {
          "output_type": "stream",
          "name": "stdout",
          "text": [
            "[1, 8, 27, 64, 125, 216, 343, 512, 729]\n"
          ]
        }
      ]
    },
    {
      "cell_type": "code",
      "source": [
        "# 2. Simple conditional expression.\n",
        "\n",
        "is_odd = lambda x: x % 3 == 0\n",
        "print (is_odd(4))"
      ],
      "metadata": {
        "colab": {
          "base_uri": "https://localhost:8080/"
        },
        "id": "msctSiChjcQN",
        "outputId": "0c469334-9be1-47b3-bab2-230ffcfbb1e5"
      },
      "execution_count": null,
      "outputs": [
        {
          "output_type": "stream",
          "name": "stdout",
          "text": [
            "False\n"
          ]
        }
      ]
    },
    {
      "cell_type": "markdown",
      "source": [
        "**Question 9.** ***Explain the purpose and usage of the `map()` function in Python.***\n",
        "\n",
        "  - The map() function in Python is a built-in tool that applies a specified function to each item in an iterable (such as a list, tuple, or set), returning a new iterator with the transformed items.\n",
        "  \n",
        "  - This approach allows for concise and efficient data processing without the need for explicit loops.\n",
        "\n",
        "**Syntax** : `map(function, iterable, ...)`\n",
        "\n",
        "  - **function** : A callable that defines the transformation to apply.\n",
        "\n",
        "  - **iterable** : One or more iterable objects (e.g., lists, tuples).\n",
        "\n",
        "The map() function returns a map object, which is an iterator. To view the results, you can convert it to a list, tuple, or set."
      ],
      "metadata": {
        "id": "BXmq91hoz1xE"
      }
    },
    {
      "cell_type": "code",
      "source": [
        "# Example\n",
        "\n",
        "a = [1,2,3]\n",
        "b = [4,5,6]\n",
        "\n",
        "product = map(lambda x, y : x*y, a, b)   # to get the result you should print it as a list.\n",
        "print (list(product))\n",
        "\n",
        "# or we can use map comprehension t\n",
        "#    product = list(map(lambda x, y : x*y, a, b))\n",
        "#    print(product)"
      ],
      "metadata": {
        "id": "itzJTD00z7xD",
        "colab": {
          "base_uri": "https://localhost:8080/"
        },
        "outputId": "af50e80f-5167-48b1-d522-35a589cb22d6"
      },
      "execution_count": null,
      "outputs": [
        {
          "output_type": "stream",
          "name": "stdout",
          "text": [
            "[4, 10, 18]\n"
          ]
        }
      ]
    },
    {
      "cell_type": "markdown",
      "source": [
        "**Question 10.** ***What is the difference between `map()`, `reduce()`, and `filter()` functions in Python?***\n",
        "\n",
        "  > **map(): Transforming Elements**\n",
        "\n",
        "  - *Purpose* : Applies a specified function to each item in an iterable, returning an iterator with the results.\n",
        "\n",
        "  - *Syntax* : map(function, iterable)"
      ],
      "metadata": {
        "id": "RHwimisIz8bM"
      }
    },
    {
      "cell_type": "code",
      "source": [
        "# *Example* : square each number in a list:\n",
        "\n",
        "number = [1,2,3]\n",
        "square = list(map(lambda x: x**2, number))\n",
        "print (square)"
      ],
      "metadata": {
        "id": "biKN8BxW0I65",
        "colab": {
          "base_uri": "https://localhost:8080/"
        },
        "outputId": "c3ef6140-7816-4d53-ea6a-b33a605779dd"
      },
      "execution_count": null,
      "outputs": [
        {
          "output_type": "stream",
          "name": "stdout",
          "text": [
            "[1, 4, 9]\n"
          ]
        }
      ]
    },
    {
      "cell_type": "markdown",
      "source": [
        "  **filter(): Selecting Elements**\n",
        "\n",
        "   - *Purpose* : Filters elements in an iterable based on a function that returns True or False.\n",
        "\n",
        "   - *Syntax* : filter(function, iterable)"
      ],
      "metadata": {
        "id": "yPXxbi-5Ij2Q"
      }
    },
    {
      "cell_type": "code",
      "source": [
        "# Example : filtering odd number from list\n",
        "\n",
        "number = [1,2,3,4,5,6,7,8,9]\n",
        "odd = list(filter(lambda x: x%2 != 0, number))\n",
        "print (odd)"
      ],
      "metadata": {
        "colab": {
          "base_uri": "https://localhost:8080/"
        },
        "id": "JumuFAIMI4nE",
        "outputId": "0d983159-265d-4125-dc4e-e1f0859f806e"
      },
      "execution_count": null,
      "outputs": [
        {
          "output_type": "stream",
          "name": "stdout",
          "text": [
            "[1, 3, 5, 7, 9]\n"
          ]
        }
      ]
    },
    {
      "cell_type": "markdown",
      "source": [
        "**reduce(): Aggregating Elements**\n",
        "\n",
        "  - *Purpose* : Applies a function cumulatively to the items of an iterable, reducing it to a single value.\n",
        "\n",
        "  - *Syntax* : reduce(function, iterable[, initializer])\n",
        "\n",
        "  - *Note* : reduce() is in the functools module."
      ],
      "metadata": {
        "id": "lHGFjEiXJFvG"
      }
    },
    {
      "cell_type": "code",
      "source": [
        "#\n",
        "from functools import reduce\n",
        "\n",
        "numbers = [1, 2, 3, 4]\n",
        "product = reduce(lambda x, y: x * y, numbers)\n",
        "print(product)"
      ],
      "metadata": {
        "colab": {
          "base_uri": "https://localhost:8080/"
        },
        "id": "lo5ud0b5JfxB",
        "outputId": "7b07201e-3764-4a1f-812a-74676dca7d1a"
      },
      "execution_count": null,
      "outputs": [
        {
          "output_type": "stream",
          "name": "stdout",
          "text": [
            "24\n"
          ]
        }
      ]
    },
    {
      "cell_type": "markdown",
      "source": [
        "**Question 11.** ***Using pen & Paper write the internal mechanism for sum operation using reduce function on this given\n",
        "list:[47,11,42,13];***\n",
        "\n"
      ],
      "metadata": {
        "id": "3IWqkf300JaG"
      }
    },
    {
      "cell_type": "markdown",
      "source": [
        "![WhatsApp Image 2025-05-16 at 13.54.02.jpeg](data:image/jpeg;base64,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)"
      ],
      "metadata": {
        "id": "YP603nvvOPge"
      }
    },
    {
      "cell_type": "markdown",
      "source": [
        "# ***PRACTICAL QUESTIONS***"
      ],
      "metadata": {
        "id": "ZM1IVFGy0W9R"
      }
    },
    {
      "cell_type": "markdown",
      "source": [
        "**Question 1.**  ***Write a Python function that takes a list of numbers as input and returns the sum of all even numbers in\n",
        "the list.***\n"
      ],
      "metadata": {
        "id": "WGiGdO8R0eM0"
      }
    },
    {
      "cell_type": "code",
      "source": [
        "number = [1, 2, 3, 4, 5,  6, 7, 8, 9]\n",
        "def add_even (number):\n",
        "       add = 0\n",
        "       for i in number:\n",
        "             if i % 2 == 0:\n",
        "                  add += i\n",
        "       print (add)\n",
        "\n",
        "add_even (number)"
      ],
      "metadata": {
        "id": "Avl5ioBM0dyl",
        "colab": {
          "base_uri": "https://localhost:8080/"
        },
        "outputId": "9d9ed1c2-3213-46d9-c125-77d691ba3b7f"
      },
      "execution_count": 15,
      "outputs": [
        {
          "output_type": "stream",
          "name": "stdout",
          "text": [
            "20\n"
          ]
        }
      ]
    },
    {
      "cell_type": "markdown",
      "source": [
        "**Question 2.** ***Create a Python function that accepts a string and returns the reverse of that string.***\n",
        "\n"
      ],
      "metadata": {
        "id": "5mrA25MR0jhJ"
      }
    },
    {
      "cell_type": "code",
      "source": [
        "s = \"Motivation\"\n",
        "def rev_st (s):\n",
        "  return s[ : : -1]\n",
        "\n",
        "rev_st(s)"
      ],
      "metadata": {
        "id": "_xI5AAO60mZ_",
        "colab": {
          "base_uri": "https://localhost:8080/",
          "height": 35
        },
        "outputId": "e1c8fd51-a398-4127-fbf1-f99f41132eba"
      },
      "execution_count": 16,
      "outputs": [
        {
          "output_type": "execute_result",
          "data": {
            "text/plain": [
              "'noitavitoM'"
            ],
            "application/vnd.google.colaboratory.intrinsic+json": {
              "type": "string"
            }
          },
          "metadata": {},
          "execution_count": 16
        }
      ]
    },
    {
      "cell_type": "markdown",
      "source": [
        "**Question 3.**  Implement a Python function that takes a list of integers and returns a new list containing the squares of\n",
        "each number. ***italicized text***\n"
      ],
      "metadata": {
        "id": "M54sGpRm0nG6"
      }
    },
    {
      "cell_type": "code",
      "source": [
        "num = [1,2,3,4,5,6,7,8,9]\n",
        "def sq_num (num):\n",
        "    square = list(map(lambda x: x**2, num))\n",
        "    return square\n",
        "sq_num(num)"
      ],
      "metadata": {
        "id": "4ysgzdVU0pYK",
        "colab": {
          "base_uri": "https://localhost:8080/"
        },
        "outputId": "7b26d689-35c2-4e81-89a4-7c325368312b"
      },
      "execution_count": 20,
      "outputs": [
        {
          "output_type": "execute_result",
          "data": {
            "text/plain": [
              "[1, 4, 9, 16, 25, 36, 49, 64, 81]"
            ]
          },
          "metadata": {},
          "execution_count": 20
        }
      ]
    },
    {
      "cell_type": "code",
      "source": [
        "num = [1,2,3,4,5,6,7,8,9]\n",
        "\n",
        "def sq_num (num):\n",
        "  square_lst = []\n",
        "\n",
        "  for i in num:\n",
        "    squared = i*i\n",
        "    square_lst.append(squared)\n",
        "  return (square_lst)\n",
        "\n",
        "print (sq_num (num))"
      ],
      "metadata": {
        "colab": {
          "base_uri": "https://localhost:8080/"
        },
        "id": "CeLM-M9_-zxN",
        "outputId": "617c9b60-39e7-4f3e-d4a5-d27b61105710"
      },
      "execution_count": 24,
      "outputs": [
        {
          "output_type": "stream",
          "name": "stdout",
          "text": [
            "[1, 4, 9, 16, 25, 36, 49, 64, 81]\n"
          ]
        }
      ]
    },
    {
      "cell_type": "markdown",
      "source": [
        "**Question 4.**  ***Write a Python function that checks if a given number is prime or not from 1 to 200.***\n",
        "\n"
      ],
      "metadata": {
        "id": "lyVJorUR0p6g"
      }
    },
    {
      "cell_type": "code",
      "source": [
        "num = list(range(1, 201))\n",
        "\n",
        "def prime_check(num):\n",
        "  prime_lst = []\n",
        "\n",
        "  for i in num:\n",
        "    if i < 2:\n",
        "      continue\n",
        "\n",
        "    is_prime = True\n",
        "    for j in range (2, int(i**0.5) + 1):\n",
        "      if i % j == 0:\n",
        "        is_prime = False\n",
        "        break\n",
        "    if is_prime:\n",
        "      prime_lst.append(i)\n",
        "  return (prime_lst)\n",
        "\n",
        "print(prime_check(num))"
      ],
      "metadata": {
        "id": "lAOUSkiR0uZa",
        "colab": {
          "base_uri": "https://localhost:8080/"
        },
        "outputId": "6ff657f6-ceff-41b8-c050-994518d27659"
      },
      "execution_count": 28,
      "outputs": [
        {
          "output_type": "stream",
          "name": "stdout",
          "text": [
            "[2, 3, 5, 7, 11, 13, 17, 19, 23, 29, 31, 37, 41, 43, 47, 53, 59, 61, 67, 71, 73, 79, 83, 89, 97, 101, 103, 107, 109, 113, 127, 131, 137, 139, 149, 151, 157, 163, 167, 173, 179, 181, 191, 193, 197, 199]\n"
          ]
        }
      ]
    },
    {
      "cell_type": "markdown",
      "source": [
        "**Question 5.** ***Create an iterator class in Python that generates the Fibonacci sequence up to a specified number of\n",
        "terms.***\n"
      ],
      "metadata": {
        "id": "dG9TDgRb0uvH"
      }
    },
    {
      "cell_type": "code",
      "source": [
        "class fibonacci:\n",
        "  def __init__(self, n_terms):\n",
        "    self.n_terms = n_terms\n",
        "    self.count = 0\n",
        "    self.a = 0\n",
        "    self.b = 1\n",
        "\n",
        "  def __iter__(self):\n",
        "    return self\n",
        "\n",
        "  def __next__(self):\n",
        "    if self.count >= self.n_terms:\n",
        "      raise StopIteration\n",
        "    if self.count == 0:\n",
        "      self.count += 1\n",
        "      return self.a\n",
        "    elif self.count == 1:\n",
        "      self.count += 1\n",
        "      return self.b\n",
        "    else:\n",
        "      self.count += 1\n",
        "      self.a, self.b = self.b, self.a + self.b\n",
        "      return self.b\n",
        "\n",
        "\n",
        "fib = fibonacci (10)\n",
        "for num in fib:\n",
        "  print(num)\n",
        ""
      ],
      "metadata": {
        "id": "FzsqvfRJ0xVa",
        "colab": {
          "base_uri": "https://localhost:8080/"
        },
        "outputId": "acb472dc-6257-4cbb-bfd2-0420fc56f42f"
      },
      "execution_count": 32,
      "outputs": [
        {
          "output_type": "stream",
          "name": "stdout",
          "text": [
            "0\n",
            "1\n",
            "1\n",
            "2\n",
            "3\n",
            "5\n",
            "8\n",
            "13\n",
            "21\n",
            "34\n"
          ]
        }
      ]
    },
    {
      "cell_type": "markdown",
      "source": [
        "**Question 6.** ***Write a generator function in Python that yields the powers of 2 up to a given exponent.***\n"
      ],
      "metadata": {
        "id": "AEeyK2ZE0xug"
      }
    },
    {
      "cell_type": "code",
      "source": [
        "def pow_of_two (n):\n",
        "\n",
        "  for i in range(n+1):\n",
        "    yield 2**i\n",
        "\n",
        "\n",
        "print (list(pow_of_two(10)))"
      ],
      "metadata": {
        "id": "7tNk4Yxx01Aw",
        "colab": {
          "base_uri": "https://localhost:8080/"
        },
        "outputId": "1d4d6410-7d9c-49b1-8427-9444def14bdb"
      },
      "execution_count": 36,
      "outputs": [
        {
          "output_type": "stream",
          "name": "stdout",
          "text": [
            "[1, 2, 4, 8, 16, 32, 64, 128, 256, 512, 1024]\n"
          ]
        }
      ]
    },
    {
      "cell_type": "markdown",
      "source": [
        "**Question 7.** ***Implement a generator function that reads a file line by line and yields each line as a string.***\n"
      ],
      "metadata": {
        "id": "56jc_n8E01a-"
      }
    },
    {
      "cell_type": "code",
      "source": [
        "def read_by_line (file_path):\n",
        "\n",
        "  with open(file_path, 'r', encoding = 'utf-8') as file:\n",
        "    for line in file:\n",
        "      yield line.strip('\\n')\n",
        "\n",
        "\n"
      ],
      "metadata": {
        "id": "35KKO4hl05pW"
      },
      "execution_count": 46,
      "outputs": []
    },
    {
      "cell_type": "markdown",
      "source": [
        "**Question 8.** ***Use a lambda function in Python to sort a list of tuples based on the second element of each tuple.***\n"
      ],
      "metadata": {
        "id": "4bML-0Yx06IC"
      }
    },
    {
      "cell_type": "code",
      "source": [
        "random_tuples = [\n",
        "    (1, 'apple'),\n",
        "    (7, 'banana'),\n",
        "    (3, 'cherry'),\n",
        "    (9, 'date'),\n",
        "    (5, 'elderberry'),\n",
        "    (2, 'fig'),\n",
        "    (8, 'grape'),\n",
        "    (4, 'honeydew'),\n",
        "    (6, 'kiwi'),\n",
        "    (0, 'lemon')\n",
        "]\n",
        "\n",
        "second_element = list(map(lambda x:x[1], random_tuples))\n",
        "print (second_element)"
      ],
      "metadata": {
        "id": "1lfy-EHr09IX",
        "colab": {
          "base_uri": "https://localhost:8080/"
        },
        "outputId": "479a58c7-5f87-4854-a7e8-b4c18f2af02c"
      },
      "execution_count": 50,
      "outputs": [
        {
          "output_type": "stream",
          "name": "stdout",
          "text": [
            "['apple', 'banana', 'cherry', 'date', 'elderberry', 'fig', 'grape', 'honeydew', 'kiwi', 'lemon']\n"
          ]
        }
      ]
    },
    {
      "cell_type": "markdown",
      "source": [
        "**Question 9.**  ***Write a Python program that uses `map()` to convert a list of temperatures from Celsius to Fahrenheit.***"
      ],
      "metadata": {
        "id": "6VEG0pfr09s8"
      }
    },
    {
      "cell_type": "code",
      "source": [
        "celsius_temp = [ 34, 38, 45, 24]\n",
        "\n",
        "Fahrenheit_temp = list(map(lambda x: x * 9/5 + 32, celsius_temp))\n",
        "print (Fahrenheit_temp)\n"
      ],
      "metadata": {
        "id": "CaGDqsNF1Aq1",
        "colab": {
          "base_uri": "https://localhost:8080/"
        },
        "outputId": "154d87da-3deb-482b-e6f4-84bd5d344d2e"
      },
      "execution_count": 51,
      "outputs": [
        {
          "output_type": "stream",
          "name": "stdout",
          "text": [
            "[93.2, 100.4, 113.0, 75.2]\n"
          ]
        }
      ]
    },
    {
      "cell_type": "markdown",
      "source": [
        "**Question 10.** ***Create a Python program that uses `filter()` to remove all the vowels from a given string.***\n",
        "\n"
      ],
      "metadata": {
        "id": "g5e-GZjB1BF2"
      }
    },
    {
      "cell_type": "code",
      "source": [
        "s = 'abcdefghijklmnopqrstuvwxyz'\n",
        "vowel = \"aeiouAEIOU\"\n",
        "remove_vowel = filter(lambda ch: ch not in vowel, s )\n",
        "\n",
        "print(\"This is the original string:\", s)\n",
        "print(\"String after removing vowels:\", ''.join(remove_vowel))"
      ],
      "metadata": {
        "id": "XmEgGngs1D4_",
        "colab": {
          "base_uri": "https://localhost:8080/"
        },
        "outputId": "da45bcad-7976-4b4b-f578-2a0962b69072"
      },
      "execution_count": 58,
      "outputs": [
        {
          "output_type": "stream",
          "name": "stdout",
          "text": [
            "This is the original string: abcdefghijklmnopqrstuvwxyz\n",
            "String after removing vowels: bcdfghjklmnpqrstvwxyz\n"
          ]
        }
      ]
    },
    {
      "cell_type": "markdown",
      "source": [
        "**Question 11.** ***Imagine an accounting routine used in a book shop. It works on a list with sublists, which look like this:***\n",
        "\n",
        "***Write a Python program, which returns a list with 2-tuples. Each tuple consists of the order number and the\n",
        "product of the price per item and the quantity. The product should be increased by 10,- € if the value of the\n",
        "order is smaller than 100,00 €.***\n",
        "\n",
        "***Write a Python program using lambda and map.***\n",
        "\n",
        "\n",
        "\n",
        "\n",
        "\n"
      ],
      "metadata": {
        "id": "8lSYqiMB1Eku"
      }
    },
    {
      "cell_type": "code",
      "source": [
        "orders = [\n",
        "     [34587, \"Learning Python\", 4, 40.95],\n",
        "     [98762, \"Programming Python\", 5, 56.80],\n",
        "     [77226, \"Head First Python\", 3, 32.95],\n",
        "     [88112, \"Einführung in Python3\", 3, 24.99]\n",
        "]\n",
        "\n",
        "order_total = list(map(\n",
        "    lambda order: (\n",
        "        order[0],\n",
        "        round(order[2] * order[3] + (10 if order[2] * order[3] < 100 else 0 ), 2)\n",
        "    ),\n",
        "    orders\n",
        "))\n",
        "\n",
        "print (order_total)\n"
      ],
      "metadata": {
        "id": "TX7gPhBm1HQ9",
        "colab": {
          "base_uri": "https://localhost:8080/"
        },
        "outputId": "a7a2468b-3f30-45e3-b03d-651fbc5e661e"
      },
      "execution_count": 13,
      "outputs": [
        {
          "output_type": "stream",
          "name": "stdout",
          "text": [
            "[(34587, 163.8), (98762, 284.0), (77226, 108.85), (88112, 84.97)]\n"
          ]
        }
      ]
    }
  ]
}